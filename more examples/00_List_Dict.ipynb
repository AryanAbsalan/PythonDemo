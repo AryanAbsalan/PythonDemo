{
 "cells": [
  {
   "cell_type": "code",
   "execution_count": 2,
   "metadata": {},
   "outputs": [
    {
     "name": "stdout",
     "output_type": "stream",
     "text": [
      "[-16, 6, -4, -18, 18, 20, 21, -6, 19, 25]\n",
      "[27, -1, 10, -2, -15, -10, 19, 26, 3, 27]\n",
      "['Hello', -16, 6, -4, 18, 20, 21, -6, 19, 25, 11, 27, -1, 10, -2, -15, -10, 19, 26, 3, 27, 'Goodbye']\n"
     ]
    }
   ],
   "source": [
    "a_long_list = [-16, 6, -4, -18, 18, 20, 21, -6, 19, 25, 11,\n",
    "                27, -1, 10, -2, -15, -10, 19, 26, 3, 27]\n",
    "\n",
    "# Display the first 10 elements of the list a_long_list\n",
    "print(a_long_list[:10])\n",
    "\n",
    "# Display the last 10 elements of the list a_long_list\n",
    "print(a_long_list[-10:])\n",
    "\n",
    "a_long_list.pop(3)\n",
    "a_long_list.insert(0, \"Hello\")\n",
    "a_long_list.append(\"Goodbye\")\n",
    "\n",
    "# Display of a_long_list\n",
    "print(a_long_list)\n"
   ]
  },
  {
   "cell_type": "code",
   "execution_count": null,
   "metadata": {},
   "outputs": [],
   "source": [
    "digits = [0, 1, 2, 3, 4, 5, 6, 7, 8, 9]\n",
    "fruits = [\"apple\", \"banana\", \"orange\", \"kiwi\", \"grape\"]\n",
    "cities = [\n",
    "     \"New York\",\n",
    "     \"Los Angeles\",\n",
    "     \"Chicago\",\n",
    "     \"Houston\",\n",
    "     \"Philadelphia\"\n",
    " ]\n",
    "print(cities)\n",
    "\n",
    "matrix = [\n",
    "     [1, 2, 3],\n",
    "     [4, 5, 6],\n",
    "     [7, 8, 9]\n",
    " ]\n",
    "print(matrix)\n",
    "\n",
    "products = [\n",
    "     {\"product\": \"phone\", \"price\": 1000, \"quantity\": 10},\n",
    "     {\"product\": \"laptop\", \"price\": 1500, \"quantity\": 5},\n",
    "     {\"product\": \"tablet\", \"price\": 500, \"quantity\": 20}\n",
    " ]\n",
    "\n",
    "print(products)"
   ]
  },
  {
   "cell_type": "code",
   "execution_count": null,
   "metadata": {},
   "outputs": [],
   "source": [
    "list_1 = [\"Hello\", \"how\", \"are\", \"you\", \"?\"]\n",
    "list_2 = [\"Fine\", \"and\", \"you\", \"?\"]\n",
    "\n",
    "# Merging the elements of list_2 with list_1\n",
    "list_1.extend(list_2)\n",
    "\n",
    "# Display of list_1\n",
    "print(list_1)"
   ]
  },
  {
   "cell_type": "code",
   "execution_count": 1,
   "metadata": {},
   "outputs": [
    {
     "name": "stdout",
     "output_type": "stream",
     "text": [
      "{'first name': 'Paul', 'last name': 'Lefebvre', 'emission': 1987}\n"
     ]
    }
   ],
   "source": [
    "\n",
    "card_id  = {\"first name\": \"Paul\",\n",
    "              \"last name\": \"Lefebvre\",\n",
    "              \"emission\":1987\n",
    "            }\n",
    "\n",
    "print(card_id)"
   ]
  },
  {
   "cell_type": "code",
   "execution_count": 2,
   "metadata": {},
   "outputs": [
    {
     "name": "stdout",
     "output_type": "stream",
     "text": [
      "{'first name': 'Guillaume', 'last name': 'Lefebvre', 'emission': 1987}\n",
      "{'first name': 'Guillaume', 'last name': 'Lefebvre', 'emission': 1987, 'expiration': 1993, 'validation': 6}\n",
      "This ID card was valid for 6 years.\n"
     ]
    }
   ],
   "source": [
    "card_id[\"first name\"] = \"Guillaume\"\n",
    "print(card_id)\n",
    "\n",
    "card_id[\"expiration\"] = 1993\n",
    "\n",
    "card_id[\"validation\"]  =  card_id[\"expiration\"] - card_id[\"emission\"]  \n",
    "print(card_id)\n",
    "\n",
    "print(\"This ID card was valid for\", card_id[\"validation\"], \"years.\")"
   ]
  },
  {
   "cell_type": "code",
   "execution_count": 3,
   "metadata": {},
   "outputs": [
    {
     "name": "stdout",
     "output_type": "stream",
     "text": [
      "Maximum of the list : 8\n",
      "Minimum of the list : 1\n",
      "Sum of the list : 18\n"
     ]
    }
   ],
   "source": [
    "l = [2,3,8,1,4]\n",
    "print(\"Maximum of the list :\",max(l))\n",
    "print(\"Minimum of the list :\",min(l))\n",
    "print(\"Sum of the list :\",sum(l))"
   ]
  },
  {
   "cell_type": "code",
   "execution_count": 4,
   "metadata": {},
   "outputs": [
    {
     "name": "stdout",
     "output_type": "stream",
     "text": [
      "[324, 400]\n"
     ]
    }
   ],
   "source": [
    "inputList = [4,7,11,13,18,20]\n",
    "squareList = [var**2 for var in inputList if var%2==0 if var>=18]\n",
    "print(squareList)"
   ]
  },
  {
   "cell_type": "code",
   "execution_count": 5,
   "metadata": {},
   "outputs": [
    {
     "name": "stdout",
     "output_type": "stream",
     "text": [
      "[324, 400, 900]\n"
     ]
    }
   ],
   "source": [
    "inputList = [4, 7, 11, 13, 18, 20, 25, 30, 36]\n",
    "squareList = [var**2 for var in inputList if var % 2 == 0 and var >= 18 and var <= 30]\n",
    "print(squareList)"
   ]
  },
  {
   "cell_type": "code",
   "execution_count": 6,
   "metadata": {},
   "outputs": [
    {
     "name": "stdout",
     "output_type": "stream",
     "text": [
      "[True, False, True, True, False, True, False, True, True]\n",
      "Count of odd numbers in a list :  6\n"
     ]
    }
   ],
   "source": [
    "listOfElems = [11, 22, 33, 45, 66, 77, 88, 99, 101]\n",
    "# Count odd numbers in the list\n",
    "print(list(map(lambda x : x%2 == 1, listOfElems)))\n",
    "count = sum(map(lambda x : x%2 == 1, listOfElems))\n",
    "print('Count of odd numbers in a list : ', count) "
   ]
  },
  {
   "cell_type": "code",
   "execution_count": 7,
   "metadata": {},
   "outputs": [
    {
     "name": "stdout",
     "output_type": "stream",
     "text": [
      "['This', 'is', 'a', 'sample', '44', '55', '66', 'program']\n",
      "This is a sample 44 55 66 program\n"
     ]
    }
   ],
   "source": [
    "mix_list = [\"This\", \"is\", \"a\", \"sample\", 44, 55, 66, \"program\"]\n",
    "delimiter = ' '\n",
    "print(list(map(str, mix_list)))\n",
    "# Convert list of items to a string value\n",
    "final_str = delimiter.join(map(str, mix_list))\n",
    "print(final_str)"
   ]
  },
  {
   "cell_type": "code",
   "execution_count": 8,
   "metadata": {},
   "outputs": [
    {
     "name": "stdout",
     "output_type": "stream",
     "text": [
      "The inverted word is : ograc\n"
     ]
    }
   ],
   "source": [
    "word = \"cargo\"\n",
    "inverted_word = \"\"\n",
    "\n",
    "for i in range(len(word)-1,-1,-1):\n",
    "    inverted_word += word[i] \n",
    "    \n",
    "print(\"The inverted word is :\", inverted_word)"
   ]
  },
  {
   "cell_type": "code",
   "execution_count": 9,
   "metadata": {},
   "outputs": [
    {
     "name": "stdout",
     "output_type": "stream",
     "text": [
      "ograc\n"
     ]
    }
   ],
   "source": [
    "word = 'cargo'\n",
    "print(word[::-1])\n"
   ]
  },
  {
   "cell_type": "code",
   "execution_count": 10,
   "metadata": {},
   "outputs": [
    {
     "name": "stdout",
     "output_type": "stream",
     "text": [
      "[1, 2, 4, 8, 16, 32, 64, 128, 256, 512]\n",
      "[20, 24, 14, 6, 52, 4, 38]\n",
      "['even', 'even', 'odd', 'odd', 'even', 'even', 'odd']\n"
     ]
    }
   ],
   "source": [
    "# The list of numbers for the last two questions\n",
    "numbers_list = [10, 12, 7, 3, 26, 2, 19]\n",
    "\n",
    "# Insert your code here\n",
    "powers_two = [2**i for i in range(10)] \n",
    "print(powers_two )\n",
    "\n",
    "double_list = [n*2 for n in numbers_list]\n",
    "print(double_list)\n",
    "\n",
    "even_list = [\"even\" if number%2 == 0 else \"odd\" for number in numbers_list]\n",
    "\n",
    "print(even_list)\n"
   ]
  },
  {
   "cell_type": "code",
   "execution_count": 11,
   "metadata": {},
   "outputs": [
    {
     "name": "stdout",
     "output_type": "stream",
     "text": [
      "Index of maximum in the first list: 12\n",
      "Maximum: 94\n",
      "Index of maximum in the second list: 5\n",
      "Maximum: 94\n",
      "Index of maximum in the second list: 13\n",
      "Maximum: 94\n"
     ]
    }
   ],
   "source": [
    "L = [22, 65, 75, 93, 64, 47, 91, 53, 86, 53, 88, 17, 94, 39]\n",
    "\n",
    "maximum=0\n",
    "max_index=0\n",
    "\n",
    "for index, element in enumerate(L):\n",
    "    if element > maximum:\n",
    "        maximum = element\n",
    "        max_index = index\n",
    "\n",
    "print(\"Index of maximum in the first list:\", max_index)\n",
    "print(\"Maximum:\", maximum)\n",
    "\n",
    "L2 = [22, 65, 75, 93, 64, 94, 47, 91, 53, 86, 53, 88, 17, 94, 39]\n",
    "\n",
    "for index, num in enumerate(L2):\n",
    "    maximum = max(L)\n",
    "    if num == maximum:\n",
    "        print(\"Index of maximum in the second list:\", index)\n",
    "        print(\"Maximum:\", maximum)"
   ]
  },
  {
   "cell_type": "code",
   "execution_count": 12,
   "metadata": {},
   "outputs": [
    {
     "name": "stdout",
     "output_type": "stream",
     "text": [
      "Individual savings: [200, 300, -500, -700, -200, 1000, 1000, 0, 350, -1300, 300, 250, 450]\n",
      "Maximum savings: 1000\n",
      "Index of maximum savings: 5\n",
      "Maximum savings: 1000\n",
      "Index of maximum savings: 6\n",
      "Minimum savings: -1300\n",
      "Index of minimum savings: 9\n"
     ]
    }
   ],
   "source": [
    "incomes = [1200, 2000, 1500, 0, 1000, 4500, 1200, 500, 1350, 2200, 1650, 1300, 2300]\n",
    "expenses = [1000, 1700, 2000, 700, 1200, 3500, 200, 500, 1000, 3500, 1350, 1050, 1850]\n",
    "\n",
    "savings = []\n",
    "\n",
    "# Insert your code here\n",
    "for income, expens in zip(incomes, expenses):\n",
    "    savings.append(income-expens)\n",
    "    \n",
    "print(\"Individual savings:\", savings)\n",
    "\n",
    "for index, num in enumerate(savings):\n",
    "    maximum = max(savings)\n",
    "    if num == maximum:\n",
    "        print(\"Maximum savings:\", maximum)\n",
    "        print(\"Index of maximum savings:\", index)\n",
    "    \n",
    "    minimum = min(savings)\n",
    "    if num == minimum:\n",
    "        print(\"Minimum savings:\", minimum)\n",
    "        print(\"Index of minimum savings:\", index)"
   ]
  }
 ],
 "metadata": {
  "kernelspec": {
   "display_name": "base",
   "language": "python",
   "name": "python3"
  },
  "language_info": {
   "codemirror_mode": {
    "name": "ipython",
    "version": 3
   },
   "file_extension": ".py",
   "mimetype": "text/x-python",
   "name": "python",
   "nbconvert_exporter": "python",
   "pygments_lexer": "ipython3",
   "version": "3.12.4"
  }
 },
 "nbformat": 4,
 "nbformat_minor": 2
}
