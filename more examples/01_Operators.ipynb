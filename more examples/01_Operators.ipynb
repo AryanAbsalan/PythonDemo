{
 "cells": [
  {
   "cell_type": "code",
   "execution_count": null,
   "metadata": {},
   "outputs": [],
   "source": [
    "distance = 750\n",
    "speed = 4.8\n",
    "\n",
    "time = distance/speed\n",
    "\n",
    "# Number of days of walking\n",
    "days = time // 24\n",
    "\n",
    "# Number of hours remaining\n",
    "hours_remaining = time % 24\n",
    "\n",
    "print(\"You would need\", days, \"days and\", hours_remaining, \"hours to walk from Paris to Marseille.\")"
   ]
  },
  {
   "cell_type": "code",
   "execution_count": null,
   "metadata": {},
   "outputs": [],
   "source": [
    "# Insert your code here\n",
    "seniority = 12\n",
    "salary = 2400\n",
    "\n",
    "criterion1 = seniority < 5 and salary < 1500\n",
    "criterion2 = (5 <= seniority <= 10) and (1500 <= salary <= 2300)\n",
    "criterion3 = (seniority > 10) and (1500 > salary or salary > 2300)\n",
    "\n",
    "print(\"Bernadette gets the bonus:\", criterion1 or criterion2 or criterion3)\n",
    "\n",
    "\n",
    "seniority = 6\n",
    "salary = 1490\n",
    "\n",
    "criterion1 = seniority < 5 and salary < 1500\n",
    "criterion2 = (5 <= seniority <= 10) and (1500 <= salary <= 2300)\n",
    "criterion3 = (seniority > 10) and (1500 > salary or salary > 2300)\n",
    "\n",
    "print(\"Marc gets the bonus:\", criterion1 or criterion2 or criterion3)"
   ]
  }
 ],
 "metadata": {
  "language_info": {
   "name": "python"
  }
 },
 "nbformat": 4,
 "nbformat_minor": 2
}
