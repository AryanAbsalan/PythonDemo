{
 "cells": [
  {
   "cell_type": "code",
   "execution_count": 1,
   "metadata": {},
   "outputs": [
    {
     "name": "stdout",
     "output_type": "stream",
     "text": [
      "-50.0\n",
      "40.0\n"
     ]
    }
   ],
   "source": [
    "def variation(initial, final):\n",
    "    rate = ((final - initial)/initial) * 100 \n",
    "    \n",
    "    return rate\n",
    "\n",
    "print(variation(2000,1000))\n",
    "print(variation(25,35))\n"
   ]
  },
  {
   "cell_type": "code",
   "execution_count": null,
   "metadata": {},
   "outputs": [],
   "source": [
    "def uniques(elements):\n",
    "    unique_values = []\n",
    "    \n",
    "    for element in elements:\n",
    "        if element not in unique_values:\n",
    "            unique_values.append(element)\n",
    "    \n",
    "    return unique_values\n",
    "\n",
    "\n",
    "print(uniques([1, 1, 2, 2, 2, 3, 3, \"Hello\"]))\n"
   ]
  },
  {
   "cell_type": "code",
   "execution_count": null,
   "metadata": {},
   "outputs": [],
   "source": [
    "def common_list(l1,l2):\n",
    "    \n",
    "    result_list= []\n",
    "\n",
    "    for item in l1:\n",
    "        if item in l2:\n",
    "            result_list.append(item)\n",
    "            \n",
    "    return result_list\n",
    "\n",
    "l1 = [2,3,4,8,11,7] \n",
    "l2 = [2,9,10,7]\n",
    "\n",
    "print(common_list(l1, l2))"
   ]
  },
  {
   "cell_type": "code",
   "execution_count": null,
   "metadata": {},
   "outputs": [],
   "source": [
    "def power4(x):\n",
    "    \n",
    "    x_1=x ** 1\n",
    "    x_2=x ** 2\n",
    "    x_3=x ** 3\n",
    "    x_4=x ** 4\n",
    "    \n",
    "    return (x_1, x_2, x_3 , x_4)\n",
    "\n",
    "x_1, x_2, x_3 , x_4 = power4(8)\n",
    "\n",
    "print(\"x ** 1:\",x_1)\n",
    "print(\"x ** 2:\",x_2)\n",
    "print(\"x ** 3:\",x_3)\n",
    "print(\"x ** 4:\",x_4)\n",
    "\n",
    "\n",
    "def power_diff(x_1, x_2, x_3 , x_4):\n",
    "    \n",
    "    diff_x2_x1 = x_2 - x_1\n",
    "    diff_x3_x2 = x_3 - x_2\n",
    "    diff_x4_x3 = x_4 - x_3\n",
    "    \n",
    "    return (diff_x2_x1, diff_x3_x2, diff_x4_x3) \n",
    "\n",
    "diff_x2_x1, diff_x3_x2, diff_x4_x3 = power_diff(x_1, x_2, x_3 , x_4)  # power_diff(power4(8)) \n",
    "\n",
    "print(\"The difference between x_2 and x_1:\", diff_x2_x1)\n",
    "print(\"The difference betweenx_3 and x_2:\", diff_x3_x2)\n",
    "print(\"The difference betweenx_4 and x_3:\",diff_x4_x3)"
   ]
  },
  {
   "cell_type": "code",
   "execution_count": 2,
   "metadata": {},
   "outputs": [
    {
     "name": "stdout",
     "output_type": "stream",
     "text": [
      "The difference between x_2 and x_1: 56\n",
      "The difference betweenx_3 and x_2: 448\n",
      "The difference betweenx_4 and x_3: 3584\n"
     ]
    }
   ],
   "source": [
    "def power4(x):\n",
    "    return x**1, x**2, x**3, x**4\n",
    "\n",
    "def power_diff(x_1, x_2, x_3, x_4):\n",
    "    diff1 = x_2 - x_1\n",
    "    diff2 = x_3 - x_2\n",
    "    diff3 = x_4 - x_3\n",
    "    \n",
    "    return diff1, diff2, diff3\n",
    "\n",
    "x_1, x_2, x_3, x_4 = power4(x = 8)\n",
    "\n",
    "diff1, diff2, diff3 = power_diff(x_1, x_2, x_3, x_4)\n",
    "\n",
    "print(\"The difference between x_2 and x_1:\", diff1)\n",
    "print(\"The difference betweenx_3 and x_2:\", diff2)\n",
    "print(\"The difference betweenx_4 and x_3:\", diff3)"
   ]
  },
  {
   "cell_type": "code",
   "execution_count": 1,
   "metadata": {},
   "outputs": [
    {
     "name": "stdout",
     "output_type": "stream",
     "text": [
      "Help on built-in function len in module builtins:\n",
      "\n",
      "len(obj, /)\n",
      "    Return the number of items in a container.\n",
      "\n"
     ]
    }
   ],
   "source": [
    "def factorial(n):\n",
    "    if n < 0: \n",
    "        return \"Negative number.\" \n",
    "    \n",
    "    # The simple case where n == 0\n",
    "    if n == 0:\n",
    "        return 1\n",
    "    else :\n",
    "        # We use the recurrence n! = n * (n-1)!\n",
    "        return n*factorial(n-1)\n",
    "    \n",
    "print(factorial(n=5))\n",
    "\n"
   ]
  },
  {
   "cell_type": "code",
   "execution_count": null,
   "metadata": {},
   "outputs": [],
   "source": [
    "def fibonnaci (n):\n",
    "    \"\"\"\n",
    "    This function computes the fibonnaci sequence F(n)\n",
    "    F(0) = 0\n",
    "    F(1) = 1\n",
    "    F(n) = F(n-1) + F(n-2)\n",
    "    \"\"\"\n",
    "    \n",
    "    if n < 0: \n",
    "        return \"Negative number.\" \n",
    "    \n",
    "    if n == 0:\n",
    "        return 0\n",
    "    if n == 1:\n",
    "        return 1\n",
    "    else :\n",
    "        return fibonnaci(n-1) + fibonnaci(n-2)\n",
    "    \n",
    "print(fibonnaci(n=10))\n"
   ]
  },
  {
   "cell_type": "code",
   "execution_count": null,
   "metadata": {},
   "outputs": [],
   "source": [
    "def solve():\n",
    "    solution_found = False  \n",
    "    for x in range(-1,3):\n",
    "        for y in range(-1,3):\n",
    "            for z in range(-1,3):\n",
    "                if x + y + z == 2 and x - y - z == 0 and 2*x + y*z == 0:\n",
    "                    solution_found = True \n",
    "                    break                   \n",
    "            if solution_found:               \n",
    "                break                      \n",
    "        if solution_found:\n",
    "            break                           \n",
    "    return x,y,z\n",
    "\n",
    "print(\"Solution found :\",solve())"
   ]
  },
  {
   "cell_type": "code",
   "execution_count": null,
   "metadata": {},
   "outputs": [],
   "source": [
    "def calculate_values(a, b, c):\n",
    "    if a is None or b is None or c is None:\n",
    "        raise ValueError(\"None value detected! Please provide valid inputs.\")\n",
    "    \n",
    "    # Calculate sum\n",
    "    sum_values = a + b + c\n",
    "    \n",
    "    # Calculate product\n",
    "    product_values = a * b * c\n",
    "    \n",
    "    # Calculate average\n",
    "    average_values = sum_values / 3\n",
    "    \n",
    "    return sum_values, product_values, average_values\n",
    "\n",
    "# Example usage\n",
    "try:\n",
    "    sum_result, product_result, average_result = calculate_values(3, 5, 7)\n",
    "    print(f\"Sum: {sum_result}, Product: {product_result}, Average: {average_result}\")\n",
    "except ValueError as e:\n",
    "    print(f\"Error: {e}\")"
   ]
  }
 ],
 "metadata": {
  "kernelspec": {
   "display_name": "base",
   "language": "python",
   "name": "python3"
  },
  "language_info": {
   "codemirror_mode": {
    "name": "ipython",
    "version": 3
   },
   "file_extension": ".py",
   "mimetype": "text/x-python",
   "name": "python",
   "nbconvert_exporter": "python",
   "pygments_lexer": "ipython3",
   "version": "3.11.7"
  }
 },
 "nbformat": 4,
 "nbformat_minor": 2
}
